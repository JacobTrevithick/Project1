{
 "cells": [
  {
   "cell_type": "code",
   "execution_count": 1,
   "metadata": {},
   "outputs": [],
   "source": [
    "# import libraries\n",
    "import matplotlib.pyplot as plt\n",
    "import pandas as pd\n",
    "import numpy as np\n",
    "from scipy import stats\n",
    "import os\n",
    "\n",
    "# function to easily plot scatter plots with linear regression. \n",
    "\n",
    "def plt_scat(x_vals, y_vals, xlabel, ylabel, title):\n",
    "    fig, ax = plt.subplots(1,1,figsize=(7,5))\n",
    "\n",
    "    slope, intercept, r_val, p_val, std_err = stats.linregress(x_vals, y_vals)\n",
    "    corr = stats.pearsonr(x_vals, y_vals)[0]\n",
    "    \n",
    "    y_fit = slope * x_vals + intercept\n",
    "    y_fit_label = f\"y = {round(slope, 2)}x + {round(intercept, 2)}\"\n",
    "    \n",
    "    ax.scatter(x=x_vals, y=y_vals, s=30, edgecolors='black', alpha=1)\n",
    "    ax.plot(x_vals, y_fit, linestyle=\"--\", color = 'red', alpha = 0.5, label =y_fit_label)\n",
    "    \n",
    "    ax.set_xlim(min(x_vals)-2, max(x_vals)+2)\n",
    "    ax.set_ylim(min(y_vals)-2, max(y_vals)+2)\n",
    "    \n",
    "    ax.legend(loc='best', fontsize = 12)\n",
    "    \n",
    "    ax.set_xlabel(xlabel)\n",
    "    ax.set_ylabel(ylabel)\n",
    "    ax.set_title(f\"{title}\")\n",
    "\n",
    "    ax.grid(alpha = 0.5)\n",
    "\n",
    "    print(f\"The r-value is: {corr}\")\n",
    "\n",
    "    plt.show()"
   ]
  },
  {
   "cell_type": "code",
   "execution_count": 2,
   "metadata": {},
   "outputs": [],
   "source": [
    "# IMPORT combined FILE\n",
    "\n",
    "filepath = os.path.join(\"Output_Data\", \"combined_data_2014_2015.csv\")\n",
    "\n",
    "combined_data_df = pd.read_csv(filepath)\n",
    "\n",
    "# PLOT stuff"
   ]
  },
  {
   "cell_type": "code",
   "execution_count": null,
   "metadata": {},
   "outputs": [],
   "source": [
    "# plt_scat(combined_data_df['temp_max'], combined_data_df['Ride_count'], \"Temperature Maximum\", \"Ride Count\", \"Ride count versus temp max\")\n",
    "# plt_scat((Monday_df['Time']).astype(int), Monday_df['Ride_count'], \"Time of Day\", \"Ride Count\", \"Monday Ride count versus Time of Day\")\n",
    "# plt_scat((combined_data_df['Time']).astype(int), combined_data_df['Ride_count'], \"Time of Day\", \"Ride Count\", \"Total Ride count versus Time of Day\")\n",
    "\n",
    "# plt_scat((Saturday_df['Time']).astype(int), Saturday_df['Ride_count'], \"Time of Day\", \"Ride Count\", \"Saturday Ride count versus Time of Day\")\n",
    "# sat_night_df  = Saturday_df[(Saturday_df['Time']).astype(int)>=23]\n",
    "\n",
    "# plt_scat(sat_night_df['temp_max'], sat_night_df['Ride_count'], \"Temperature Maximum\", \"Ride Count\", \"Saturday Ride count versus Temperature Max \\nHours: 23-to-24\")\n",
    "# rain_df = combined_data_df[combined_data_df['rain_3h'] >0]\n",
    "\n",
    "# plt_scat(rain_df['rain_3h'], rain_df['Ride_count'], \"Amount of Rain\", \"Ride Count\", \"Ride count versus amount of rain\")\n",
    "# sun_df = combined_data_df[combined_data_df['rain_1h'] == 0]\n",
    "\n",
    "# sun_df.describe()\n",
    "# rain_df.describe()\n",
    "# sat_night_2015_df  = Saturday_2015_df[(Saturday_2015_df['Time']).astype(int)>=20]\n",
    "\n",
    "# plt_scat(sat_night_2015_df['temp_max'], sat_night_2015_df['Ride_count'], \"Temperature Maximum\", \"Ride Count\", \"2015 Saturday Ride count versus Temperature Max \\nHours: 20-to-24\")"
   ]
  }
 ],
 "metadata": {
  "interpreter": {
   "hash": "1e67691bc7e9c64b6dc160199b6da1a1c108a868c79186766a1263198f3426e9"
  },
  "kernelspec": {
   "display_name": "Python 3",
   "language": "python",
   "name": "python3"
  },
  "language_info": {
   "codemirror_mode": {
    "name": "ipython",
    "version": 3
   },
   "file_extension": ".py",
   "mimetype": "text/x-python",
   "name": "python",
   "nbconvert_exporter": "python",
   "pygments_lexer": "ipython3",
   "version": "3.8.8"
  }
 },
 "nbformat": 4,
 "nbformat_minor": 2
}
