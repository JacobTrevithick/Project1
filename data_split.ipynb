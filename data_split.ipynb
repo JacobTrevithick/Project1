{
 "cells": [
  {
   "cell_type": "code",
   "execution_count": 41,
   "source": [
    "# import libraries\n",
    "import matplotlib.pyplot as plt\n",
    "import pandas as pd\n",
    "import numpy as np\n",
    "from scipy import stats\n",
    "import datetime"
   ],
   "outputs": [],
   "metadata": {}
  },
  {
   "cell_type": "code",
   "execution_count": 42,
   "source": [
    "# Read in data files\n",
    "uber_raw_janjune15_df = pd.read_csv('../uber-raw-data-janjune-15.csv')\n"
   ],
   "outputs": [],
   "metadata": {}
  },
  {
   "cell_type": "code",
   "execution_count": 43,
   "source": [
    "# rename date/ time header to match other files\n",
    "uber_raw_janjune15_df = uber_raw_janjune15_df.rename(columns={'Pickup_date': 'Date/Time'})\n",
    "\n",
    "uber_raw_janjune15_df.head()"
   ],
   "outputs": [
    {
     "output_type": "execute_result",
     "data": {
      "text/html": [
       "<div>\n",
       "<style scoped>\n",
       "    .dataframe tbody tr th:only-of-type {\n",
       "        vertical-align: middle;\n",
       "    }\n",
       "\n",
       "    .dataframe tbody tr th {\n",
       "        vertical-align: top;\n",
       "    }\n",
       "\n",
       "    .dataframe thead th {\n",
       "        text-align: right;\n",
       "    }\n",
       "</style>\n",
       "<table border=\"1\" class=\"dataframe\">\n",
       "  <thead>\n",
       "    <tr style=\"text-align: right;\">\n",
       "      <th></th>\n",
       "      <th>Dispatching_base_num</th>\n",
       "      <th>Date/Time</th>\n",
       "      <th>Affiliated_base_num</th>\n",
       "      <th>locationID</th>\n",
       "    </tr>\n",
       "  </thead>\n",
       "  <tbody>\n",
       "    <tr>\n",
       "      <th>0</th>\n",
       "      <td>B02617</td>\n",
       "      <td>2015-05-17 09:47:00</td>\n",
       "      <td>B02617</td>\n",
       "      <td>141</td>\n",
       "    </tr>\n",
       "    <tr>\n",
       "      <th>1</th>\n",
       "      <td>B02617</td>\n",
       "      <td>2015-05-17 09:47:00</td>\n",
       "      <td>B02617</td>\n",
       "      <td>65</td>\n",
       "    </tr>\n",
       "    <tr>\n",
       "      <th>2</th>\n",
       "      <td>B02617</td>\n",
       "      <td>2015-05-17 09:47:00</td>\n",
       "      <td>B02617</td>\n",
       "      <td>100</td>\n",
       "    </tr>\n",
       "    <tr>\n",
       "      <th>3</th>\n",
       "      <td>B02617</td>\n",
       "      <td>2015-05-17 09:47:00</td>\n",
       "      <td>B02774</td>\n",
       "      <td>80</td>\n",
       "    </tr>\n",
       "    <tr>\n",
       "      <th>4</th>\n",
       "      <td>B02617</td>\n",
       "      <td>2015-05-17 09:47:00</td>\n",
       "      <td>B02617</td>\n",
       "      <td>90</td>\n",
       "    </tr>\n",
       "  </tbody>\n",
       "</table>\n",
       "</div>"
      ],
      "text/plain": [
       "  Dispatching_base_num            Date/Time Affiliated_base_num  locationID\n",
       "0               B02617  2015-05-17 09:47:00              B02617         141\n",
       "1               B02617  2015-05-17 09:47:00              B02617          65\n",
       "2               B02617  2015-05-17 09:47:00              B02617         100\n",
       "3               B02617  2015-05-17 09:47:00              B02774          80\n",
       "4               B02617  2015-05-17 09:47:00              B02617          90"
      ]
     },
     "metadata": {},
     "execution_count": 43
    }
   ],
   "metadata": {}
  },
  {
   "cell_type": "code",
   "execution_count": 44,
   "source": [
    "# convert to datetime object\n",
    "uber_raw_janjune15_df['Date/Time'] = pd.to_datetime(uber_raw_janjune15_df['Date/Time'])\n"
   ],
   "outputs": [],
   "metadata": {}
  },
  {
   "cell_type": "code",
   "execution_count": 46,
   "source": [
    "# append new 'Month' column for categorization\n",
    "uber_raw_janjune15_df['Month'] = uber_raw_janjune15_df['Date/Time'].apply(lambda x: x.month)"
   ],
   "outputs": [],
   "metadata": {}
  },
  {
   "cell_type": "code",
   "execution_count": 52,
   "source": [
    "\n",
    "# filter into specific months and upload csv\n",
    "uber_raw_jan15_df = uber_raw_janjune15_df[uber_raw_janjune15_df['Month'] == 1]\n",
    "uber_raw_jan15_1_df = uber_raw_jan15_df.iloc[:int(len(uber_raw_jan15_df)/2), :]\n",
    "uber_raw_jan15_2_df = uber_raw_jan15_df.iloc[int(len(uber_raw_jan15_df)/2):, :]\n",
    "uber_raw_jan15_1_df.to_csv(\"Data/uber-raw-data-jan15-1.csv\")\n",
    "uber_raw_jan15_2_df.to_csv(\"Data/uber-raw-data-jan15-2.csv\")\n",
    "\n",
    "uber_raw_feb15_df = uber_raw_janjune15_df[uber_raw_janjune15_df['Month'] == 2]\n",
    "uber_raw_feb15_1_df = uber_raw_feb15_df.iloc[:int(len(uber_raw_feb15_df)/2), :]\n",
    "uber_raw_feb15_2_df = uber_raw_feb15_df.iloc[int(len(uber_raw_feb15_df)/2):, :]\n",
    "uber_raw_feb15_1_df.to_csv(\"Data/uber-raw-data-feb15-1.csv\")\n",
    "uber_raw_feb15_2_df.to_csv(\"Data/uber-raw-data-feb15-2.csv\")\n",
    "\n",
    "uber_raw_mar15_df = uber_raw_janjune15_df[uber_raw_janjune15_df['Month'] == 3]\n",
    "uber_raw_mar15_1_df = uber_raw_mar15_df.iloc[:int(len(uber_raw_mar15_df)/2), :]\n",
    "uber_raw_mar15_2_df = uber_raw_mar15_df.iloc[int(len(uber_raw_mar15_df)/2):, :]\n",
    "uber_raw_mar15_1_df.to_csv(\"Data/uber-raw-data-mar15-1.csv\")\n",
    "uber_raw_mar15_2_df.to_csv(\"Data/uber-raw-data-mar15-2.csv\")\n",
    "\n",
    "uber_raw_apr15_df = uber_raw_janjune15_df[uber_raw_janjune15_df['Month'] == 4]\n",
    "uber_raw_apr15_1_df = uber_raw_apr15_df.iloc[:int(len(uber_raw_apr15_df)/2), :]\n",
    "uber_raw_apr15_2_df = uber_raw_apr15_df.iloc[int(len(uber_raw_apr15_df)/2):, :]\n",
    "uber_raw_apr15_1_df.to_csv(\"Data/uber-raw-data-apr15-1.csv\")\n",
    "uber_raw_apr15_2_df.to_csv(\"Data/uber-raw-data-apr15-2.csv\")\n",
    "\n",
    "uber_raw_may15_df = uber_raw_janjune15_df[uber_raw_janjune15_df['Month'] == 5]\n",
    "uber_raw_may15_1_df = uber_raw_may15_df.iloc[:int(len(uber_raw_may15_df)/2), :]\n",
    "uber_raw_may15_2_df = uber_raw_may15_df.iloc[int(len(uber_raw_may15_df)/2):, :]\n",
    "uber_raw_may15_1_df.to_csv(\"Data/uber-raw-data-may15-1.csv\")\n",
    "uber_raw_may15_2_df.to_csv(\"Data/uber-raw-data-may15-2.csv\")\n",
    "\n",
    "uber_raw_jun15_df = uber_raw_janjune15_df[uber_raw_janjune15_df['Month'] == 6]\n",
    "uber_raw_jun15_1_df = uber_raw_jun15_df.iloc[:int(len(uber_raw_jun15_df)/2), :]\n",
    "uber_raw_jun15_2_df = uber_raw_jun15_df.iloc[int(len(uber_raw_jun15_df)/2):, :]\n",
    "uber_raw_jun15_1_df.to_csv(\"Data/uber-raw-data-jun15-1.csv\")\n",
    "uber_raw_jun15_2_df.to_csv(\"Data/uber-raw-data-jun15-2.csv\")\n",
    "\n"
   ],
   "outputs": [],
   "metadata": {}
  },
  {
   "cell_type": "code",
   "execution_count": null,
   "source": [],
   "outputs": [],
   "metadata": {}
  }
 ],
 "metadata": {
  "orig_nbformat": 4,
  "language_info": {
   "name": "python",
   "version": "3.6.10",
   "mimetype": "text/x-python",
   "codemirror_mode": {
    "name": "ipython",
    "version": 3
   },
   "pygments_lexer": "ipython3",
   "nbconvert_exporter": "python",
   "file_extension": ".py"
  },
  "kernelspec": {
   "name": "python3",
   "display_name": "Python 3.6.10 64-bit ('PythonData': conda)"
  },
  "interpreter": {
   "hash": "1e67691bc7e9c64b6dc160199b6da1a1c108a868c79186766a1263198f3426e9"
  }
 },
 "nbformat": 4,
 "nbformat_minor": 2
}