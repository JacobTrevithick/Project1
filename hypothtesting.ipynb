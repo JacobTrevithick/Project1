{
 "cells": [
  {
   "cell_type": "code",
   "execution_count": 1,
   "source": [
    "import matplotlib.pyplot as plt\r\n",
    "import pandas as pd\r\n",
    "import numpy as np\r\n",
    "from scipy import stats\r\n",
    "import os"
   ],
   "outputs": [],
   "metadata": {}
  },
  {
   "cell_type": "code",
   "execution_count": 2,
   "source": [
    "filepath = os.path.join(\"Output_Data\", \"combined_data_2014_2015.csv\")\r\n",
    "\r\n",
    "combined_data_df = pd.read_csv(filepath)"
   ],
   "outputs": [],
   "metadata": {}
  },
  {
   "cell_type": "code",
   "execution_count": 3,
   "source": [
    "combined_data_df.head()"
   ],
   "outputs": [
    {
     "output_type": "execute_result",
     "data": {
      "text/html": [
       "<div>\n",
       "<style scoped>\n",
       "    .dataframe tbody tr th:only-of-type {\n",
       "        vertical-align: middle;\n",
       "    }\n",
       "\n",
       "    .dataframe tbody tr th {\n",
       "        vertical-align: top;\n",
       "    }\n",
       "\n",
       "    .dataframe thead th {\n",
       "        text-align: right;\n",
       "    }\n",
       "</style>\n",
       "<table border=\"1\" class=\"dataframe\">\n",
       "  <thead>\n",
       "    <tr style=\"text-align: right;\">\n",
       "      <th></th>\n",
       "      <th>Unnamed: 0</th>\n",
       "      <th>temp</th>\n",
       "      <th>feels_like</th>\n",
       "      <th>temp_min</th>\n",
       "      <th>temp_max</th>\n",
       "      <th>pressure</th>\n",
       "      <th>humidity</th>\n",
       "      <th>wind_speed</th>\n",
       "      <th>rain_1h</th>\n",
       "      <th>rain_3h</th>\n",
       "      <th>...</th>\n",
       "      <th>snow_3h</th>\n",
       "      <th>clouds_all</th>\n",
       "      <th>weather_main</th>\n",
       "      <th>weather_description</th>\n",
       "      <th>Time</th>\n",
       "      <th>Date</th>\n",
       "      <th>Ride_count</th>\n",
       "      <th>Day_of_week</th>\n",
       "      <th>Month</th>\n",
       "      <th>Year</th>\n",
       "    </tr>\n",
       "  </thead>\n",
       "  <tbody>\n",
       "    <tr>\n",
       "      <th>0</th>\n",
       "      <td>0</td>\n",
       "      <td>51.75</td>\n",
       "      <td>48.78</td>\n",
       "      <td>49.95</td>\n",
       "      <td>53.56</td>\n",
       "      <td>1016</td>\n",
       "      <td>46</td>\n",
       "      <td>4.70</td>\n",
       "      <td>0.0</td>\n",
       "      <td>0.0</td>\n",
       "      <td>...</td>\n",
       "      <td>0.0</td>\n",
       "      <td>1</td>\n",
       "      <td>Clear</td>\n",
       "      <td>sky is clear</td>\n",
       "      <td>0</td>\n",
       "      <td>2014-04-01</td>\n",
       "      <td>138</td>\n",
       "      <td>1</td>\n",
       "      <td>4</td>\n",
       "      <td>2014</td>\n",
       "    </tr>\n",
       "    <tr>\n",
       "      <th>1</th>\n",
       "      <td>1</td>\n",
       "      <td>49.32</td>\n",
       "      <td>45.91</td>\n",
       "      <td>48.00</td>\n",
       "      <td>51.76</td>\n",
       "      <td>1016</td>\n",
       "      <td>51</td>\n",
       "      <td>8.05</td>\n",
       "      <td>0.0</td>\n",
       "      <td>0.0</td>\n",
       "      <td>...</td>\n",
       "      <td>0.0</td>\n",
       "      <td>1</td>\n",
       "      <td>Clear</td>\n",
       "      <td>sky is clear</td>\n",
       "      <td>1</td>\n",
       "      <td>2014-04-01</td>\n",
       "      <td>66</td>\n",
       "      <td>1</td>\n",
       "      <td>4</td>\n",
       "      <td>2014</td>\n",
       "    </tr>\n",
       "    <tr>\n",
       "      <th>2</th>\n",
       "      <td>2</td>\n",
       "      <td>45.21</td>\n",
       "      <td>41.45</td>\n",
       "      <td>42.75</td>\n",
       "      <td>46.94</td>\n",
       "      <td>1017</td>\n",
       "      <td>54</td>\n",
       "      <td>6.93</td>\n",
       "      <td>0.0</td>\n",
       "      <td>0.0</td>\n",
       "      <td>...</td>\n",
       "      <td>0.0</td>\n",
       "      <td>1</td>\n",
       "      <td>Clear</td>\n",
       "      <td>sky is clear</td>\n",
       "      <td>2</td>\n",
       "      <td>2014-04-01</td>\n",
       "      <td>53</td>\n",
       "      <td>1</td>\n",
       "      <td>4</td>\n",
       "      <td>2014</td>\n",
       "    </tr>\n",
       "    <tr>\n",
       "      <th>3</th>\n",
       "      <td>3</td>\n",
       "      <td>41.61</td>\n",
       "      <td>35.10</td>\n",
       "      <td>40.26</td>\n",
       "      <td>43.95</td>\n",
       "      <td>1019</td>\n",
       "      <td>58</td>\n",
       "      <td>11.41</td>\n",
       "      <td>0.0</td>\n",
       "      <td>0.0</td>\n",
       "      <td>...</td>\n",
       "      <td>0.0</td>\n",
       "      <td>1</td>\n",
       "      <td>Clear</td>\n",
       "      <td>sky is clear</td>\n",
       "      <td>3</td>\n",
       "      <td>2014-04-01</td>\n",
       "      <td>93</td>\n",
       "      <td>1</td>\n",
       "      <td>4</td>\n",
       "      <td>2014</td>\n",
       "    </tr>\n",
       "    <tr>\n",
       "      <th>4</th>\n",
       "      <td>4</td>\n",
       "      <td>41.13</td>\n",
       "      <td>37.22</td>\n",
       "      <td>39.88</td>\n",
       "      <td>42.06</td>\n",
       "      <td>1019</td>\n",
       "      <td>54</td>\n",
       "      <td>5.82</td>\n",
       "      <td>0.0</td>\n",
       "      <td>0.0</td>\n",
       "      <td>...</td>\n",
       "      <td>0.0</td>\n",
       "      <td>1</td>\n",
       "      <td>Clear</td>\n",
       "      <td>sky is clear</td>\n",
       "      <td>4</td>\n",
       "      <td>2014-04-01</td>\n",
       "      <td>166</td>\n",
       "      <td>1</td>\n",
       "      <td>4</td>\n",
       "      <td>2014</td>\n",
       "    </tr>\n",
       "  </tbody>\n",
       "</table>\n",
       "<p>5 rows × 21 columns</p>\n",
       "</div>"
      ],
      "text/plain": [
       "   Unnamed: 0   temp  feels_like  temp_min  temp_max  pressure  humidity  \\\n",
       "0           0  51.75       48.78     49.95     53.56      1016        46   \n",
       "1           1  49.32       45.91     48.00     51.76      1016        51   \n",
       "2           2  45.21       41.45     42.75     46.94      1017        54   \n",
       "3           3  41.61       35.10     40.26     43.95      1019        58   \n",
       "4           4  41.13       37.22     39.88     42.06      1019        54   \n",
       "\n",
       "   wind_speed  rain_1h  rain_3h  ...  snow_3h  clouds_all  weather_main  \\\n",
       "0        4.70      0.0      0.0  ...      0.0           1         Clear   \n",
       "1        8.05      0.0      0.0  ...      0.0           1         Clear   \n",
       "2        6.93      0.0      0.0  ...      0.0           1         Clear   \n",
       "3       11.41      0.0      0.0  ...      0.0           1         Clear   \n",
       "4        5.82      0.0      0.0  ...      0.0           1         Clear   \n",
       "\n",
       "  weather_description Time        Date Ride_count  Day_of_week  Month  Year  \n",
       "0        sky is clear    0  2014-04-01        138            1      4  2014  \n",
       "1        sky is clear    1  2014-04-01         66            1      4  2014  \n",
       "2        sky is clear    2  2014-04-01         53            1      4  2014  \n",
       "3        sky is clear    3  2014-04-01         93            1      4  2014  \n",
       "4        sky is clear    4  2014-04-01        166            1      4  2014  \n",
       "\n",
       "[5 rows x 21 columns]"
      ]
     },
     "metadata": {},
     "execution_count": 3
    }
   ],
   "metadata": {}
  },
  {
   "cell_type": "code",
   "execution_count": 4,
   "source": [
    "# Finding the total of rides per day across the data set.\r\n",
    "day_totals = combined_data_df.groupby('Day_of_week')['Ride_count'].sum().tolist()\r\n",
    "\r\n",
    "# Finding grand total of rides to find expected values.\r\n",
    "day_totals_sum = sum(day_totals)\r\n",
    "\r\n",
    "days_of_week = ['Mon', 'Tues', 'Wed', 'Thur', 'Fri', 'Sat', 'Sun']\r\n",
    "\r\n",
    "# Values for dataframe. Will show each day, the total rides across the 2 years, and then expected total is if each day got 1/7 th of the rides, the values if the day didn't make a difference.\r\n",
    "day_total_dict = {'Day_of_week': days_of_week, 'Total_ride_counts': day_totals, 'Expected_totals': round(day_totals_sum*(1/7))}\r\n",
    "\r\n",
    "day_totals_df = pd.DataFrame.from_dict(day_total_dict)\r\n",
    "day_totals_df = day_totals_df.set_index('Day_of_week')\r\n",
    "\r\n",
    "day_totals_df.head()"
   ],
   "outputs": [
    {
     "output_type": "execute_result",
     "data": {
      "text/html": [
       "<div>\n",
       "<style scoped>\n",
       "    .dataframe tbody tr th:only-of-type {\n",
       "        vertical-align: middle;\n",
       "    }\n",
       "\n",
       "    .dataframe tbody tr th {\n",
       "        vertical-align: top;\n",
       "    }\n",
       "\n",
       "    .dataframe thead th {\n",
       "        text-align: right;\n",
       "    }\n",
       "</style>\n",
       "<table border=\"1\" class=\"dataframe\">\n",
       "  <thead>\n",
       "    <tr style=\"text-align: right;\">\n",
       "      <th></th>\n",
       "      <th>Total_ride_counts</th>\n",
       "      <th>Expected_totals</th>\n",
       "    </tr>\n",
       "    <tr>\n",
       "      <th>Day_of_week</th>\n",
       "      <th></th>\n",
       "      <th></th>\n",
       "    </tr>\n",
       "  </thead>\n",
       "  <tbody>\n",
       "    <tr>\n",
       "      <th>Mon</th>\n",
       "      <td>2551395</td>\n",
       "      <td>2938430</td>\n",
       "    </tr>\n",
       "    <tr>\n",
       "      <th>Tues</th>\n",
       "      <td>2784189</td>\n",
       "      <td>2938430</td>\n",
       "    </tr>\n",
       "    <tr>\n",
       "      <th>Wed</th>\n",
       "      <td>2734319</td>\n",
       "      <td>2938430</td>\n",
       "    </tr>\n",
       "    <tr>\n",
       "      <th>Thur</th>\n",
       "      <td>3196343</td>\n",
       "      <td>2938430</td>\n",
       "    </tr>\n",
       "    <tr>\n",
       "      <th>Fri</th>\n",
       "      <td>3267278</td>\n",
       "      <td>2938430</td>\n",
       "    </tr>\n",
       "  </tbody>\n",
       "</table>\n",
       "</div>"
      ],
      "text/plain": [
       "             Total_ride_counts  Expected_totals\n",
       "Day_of_week                                    \n",
       "Mon                    2551395          2938430\n",
       "Tues                   2784189          2938430\n",
       "Wed                    2734319          2938430\n",
       "Thur                   3196343          2938430\n",
       "Fri                    3267278          2938430"
      ]
     },
     "metadata": {},
     "execution_count": 4
    }
   ],
   "metadata": {}
  },
  {
   "cell_type": "code",
   "execution_count": 5,
   "source": [
    "# Finding critical value of chi-square test, alpha level 99%, degrees of freedom 1 less than the number of days in a week.\r\n",
    "critical_value = stats.chi2.ppf(q = 0.99, df = 6)\r\n",
    "print(f'Critical value is: {critical_value}')\r\n",
    "\r\n",
    "# Chi squared test. \r\n",
    "# Null Hypothesis is that each day should have the same number of rides, that the day of the week doesn't matter. \r\n",
    "# We can see this in the expected values being the total divided equally.\r\n",
    "stats.chisquare(day_totals_df['Total_ride_counts'], day_totals_df['Expected_totals'])"
   ],
   "outputs": [
    {
     "output_type": "stream",
     "name": "stdout",
     "text": [
      "Critical value is: 16.811893829770927\n"
     ]
    },
    {
     "output_type": "execute_result",
     "data": {
      "text/plain": [
       "Power_divergenceResult(statistic=196805.05218262813, pvalue=0.0)"
      ]
     },
     "metadata": {},
     "execution_count": 5
    }
   ],
   "metadata": {}
  },
  {
   "cell_type": "code",
   "execution_count": 6,
   "source": [
    "# Graphing the observed and expected values to look at the distributions together.\r\n",
    "day_totals_df['Total_ride_counts'].plot(kind = 'bar',alpha = 0.50, color = 'red', figsize = (10,5))\r\n",
    "day_totals_df['Expected_totals'].plot(kind = 'bar', alpha = 0.50, color = 'deepskyblue').legend(loc='lower right')\r\n",
    "plt.xlabel('Day of the Week')\r\n",
    "plt.ylabel('Total Uber pickups (millions)')\r\n",
    "plt.title('Total Uber pickups 2014 - 2015 by Day: Observed vs. Expected')\r\n",
    "\r\n",
    "plt.show()"
   ],
   "outputs": [
    {
     "output_type": "display_data",
     "data": {
      "image/png": "[encoded data removed]",
      "text/plain": [
       "<Figure size 720x360 with 1 Axes>"
      ]
     },
     "metadata": {
      "needs_background": "light"
     }
    }
   ],
   "metadata": {}
  },
  {
   "cell_type": "code",
   "execution_count": 7,
   "source": [
    "# Filtering to only show the day of the week and number of Uber pickups\r\n",
    "day_groups_df = combined_data_df[['Day_of_week','Ride_count']]\r\n",
    "\r\n",
    "# Mutiple boxplots compare distributions of Uber rides across the days of the week.\r\n",
    "day_groups_df.boxplot('Ride_count', by = 'Day_of_week', figsize = (20,10))\r\n",
    "\r\n",
    "# Fixing the labeling for the x-ticks, changing from the numeric placeholders to standard naming for days of the week.\r\n",
    "plt.xticks(np.arange(1,8),days_of_week)\r\n",
    "\r\n",
    "plt.xlabel(\"Day of the Week\")\r\n",
    "plt.ylabel('Total Uber pickups')\r\n",
    "plt.title('Uber pickups 2014 - 2015 by Day')\r\n"
   ],
   "outputs": [
    {
     "output_type": "execute_result",
     "data": {
      "text/plain": [
       "Text(0.5, 1.0, 'Uber pickups 2014 - 2015 by Day')"
      ]
     },
     "metadata": {},
     "execution_count": 7
    },
    {
     "output_type": "display_data",
     "data": {
      "image/png": "[encoded data removed]",
      "text/plain": [
       "<Figure size 1440x720 with 1 Axes>"
      ]
     },
     "metadata": {
      "needs_background": "light"
     }
    }
   ],
   "metadata": {}
  },
  {
   "cell_type": "code",
   "execution_count": 8,
   "source": [
    "# Filtering the data into days of the week groupings.\r\n",
    "day_grp0 = combined_data_df[combined_data_df['Day_of_week']== 0]['Ride_count']\r\n",
    "day_grp1 = combined_data_df[combined_data_df['Day_of_week']== 1]['Ride_count']\r\n",
    "day_grp2 = combined_data_df[combined_data_df['Day_of_week']== 2]['Ride_count']\r\n",
    "day_grp3 = combined_data_df[combined_data_df['Day_of_week']== 3]['Ride_count']\r\n",
    "day_grp4 = combined_data_df[combined_data_df['Day_of_week']== 4]['Ride_count']\r\n",
    "day_grp5 = combined_data_df[combined_data_df['Day_of_week']== 5]['Ride_count']\r\n",
    "day_grp6 = combined_data_df[combined_data_df['Day_of_week']== 6]['Ride_count']\r\n",
    "\r\n",
    "# Anova test for significance.\r\n",
    "# Seeing if there's a significant difference between the days of the week's means.\r\n",
    "stats.f_oneway(day_grp0, day_grp1, day_grp2, day_grp3, day_grp4, day_grp5, day_grp6)"
   ],
   "outputs": [
    {
     "output_type": "execute_result",
     "data": {
      "text/plain": [
       "F_onewayResult(statistic=21.457981842835235, pvalue=3.53994944299833e-25)"
      ]
     },
     "metadata": {},
     "execution_count": 8
    }
   ],
   "metadata": {}
  },
  {
   "cell_type": "code",
   "execution_count": 9,
   "source": [
    "# Finding the total rides for each hour of the day across the data set.\r\n",
    "time_totals = combined_data_df.groupby('Time')['Ride_count'].sum().tolist()\r\n",
    "\r\n",
    "# Finding the grand sum in order to find expected values.\r\n",
    "time_totals_sum = sum(time_totals)\r\n",
    "\r\n",
    "# Creating the dataframe. Will show each hour of the day with it's total rides and the expected values as an equal distribution across the whole day.\r\n",
    "time_totals_df = pd.DataFrame({'Total_ride_counts': time_totals, 'Expected_totals': round(time_totals_sum*(1/24))})\r\n",
    "time_totals_df.index.name = 'Time of Day'\r\n",
    "\r\n",
    "time_totals_df.head()"
   ],
   "outputs": [
    {
     "output_type": "execute_result",
     "data": {
      "text/html": [
       "<div>\n",
       "<style scoped>\n",
       "    .dataframe tbody tr th:only-of-type {\n",
       "        vertical-align: middle;\n",
       "    }\n",
       "\n",
       "    .dataframe tbody tr th {\n",
       "        vertical-align: top;\n",
       "    }\n",
       "\n",
       "    .dataframe thead th {\n",
       "        text-align: right;\n",
       "    }\n",
       "</style>\n",
       "<table border=\"1\" class=\"dataframe\">\n",
       "  <thead>\n",
       "    <tr style=\"text-align: right;\">\n",
       "      <th></th>\n",
       "      <th>Total_ride_counts</th>\n",
       "      <th>Expected_totals</th>\n",
       "    </tr>\n",
       "    <tr>\n",
       "      <th>Time of Day</th>\n",
       "      <th></th>\n",
       "      <th></th>\n",
       "    </tr>\n",
       "  </thead>\n",
       "  <tbody>\n",
       "    <tr>\n",
       "      <th>0</th>\n",
       "      <td>771117</td>\n",
       "      <td>857042</td>\n",
       "    </tr>\n",
       "    <tr>\n",
       "      <th>1</th>\n",
       "      <td>508499</td>\n",
       "      <td>857042</td>\n",
       "    </tr>\n",
       "    <tr>\n",
       "      <th>2</th>\n",
       "      <td>336223</td>\n",
       "      <td>857042</td>\n",
       "    </tr>\n",
       "    <tr>\n",
       "      <th>3</th>\n",
       "      <td>255065</td>\n",
       "      <td>857042</td>\n",
       "    </tr>\n",
       "    <tr>\n",
       "      <th>4</th>\n",
       "      <td>245457</td>\n",
       "      <td>857042</td>\n",
       "    </tr>\n",
       "  </tbody>\n",
       "</table>\n",
       "</div>"
      ],
      "text/plain": [
       "             Total_ride_counts  Expected_totals\n",
       "Time of Day                                    \n",
       "0                       771117           857042\n",
       "1                       508499           857042\n",
       "2                       336223           857042\n",
       "3                       255065           857042\n",
       "4                       245457           857042"
      ]
     },
     "metadata": {},
     "execution_count": 9
    }
   ],
   "metadata": {}
  },
  {
   "cell_type": "code",
   "execution_count": 10,
   "source": [
    "# Finding critical value of chi-square test, alpha level 99%, degrees of freedom 1 less than the number of hours in a day.\r\n",
    "critical_value = stats.chi2.ppf(q = 0.99, df = 23)\r\n",
    "print(f'Critical value is: {critical_value}')\r\n",
    "\r\n",
    "# Chi squared test. \r\n",
    "# Null Hypothesis is that each hour should have the same number of rides, that the hour doesn't matter. \r\n",
    "# We can see this in the expected values being the total divided equally.\r\n",
    "stats.chisquare(time_totals_df['Total_ride_counts'], time_totals_df['Expected_totals'])"
   ],
   "outputs": [
    {
     "output_type": "stream",
     "name": "stdout",
     "text": [
      "Critical value is: 41.638398118858476\n"
     ]
    },
    {
     "output_type": "execute_result",
     "data": {
      "text/plain": [
       "Power_divergenceResult(statistic=3770530.1112325885, pvalue=0.0)"
      ]
     },
     "metadata": {},
     "execution_count": 10
    }
   ],
   "metadata": {}
  },
  {
   "cell_type": "code",
   "execution_count": 11,
   "source": [
    "# Graphing the observed and expected values to look at the distributions together.\r\n",
    "time_totals_df['Total_ride_counts'].plot(kind = 'bar',alpha = 0.50, color = 'red', )\r\n",
    "time_totals_df['Expected_totals'].plot(kind = 'bar', alpha = 0.50, color = 'deepskyblue',figsize = (10,5)).legend(loc='lower right')\r\n",
    "plt.xlabel('Time of Day (hr)')\r\n",
    "plt.ylabel('Total Uber pickups (millions)')\r\n",
    "plt.title('Total Uber pickups 2014 - 2015 by Time: Observed vs. Expected')\r\n",
    "\r\n",
    "plt.show()"
   ],
   "outputs": [
    {
     "output_type": "display_data",
     "data": {
      "image/png": "[encoded data removed]",
      "text/plain": [
       "<Figure size 720x360 with 1 Axes>"
      ]
     },
     "metadata": {
      "needs_background": "light"
     }
    }
   ],
   "metadata": {}
  },
  {
   "cell_type": "code",
   "execution_count": 12,
   "source": [
    "# Filtering to only show the hours of the day and number of Uber pickups\r\n",
    "time_groups_df = combined_data_df[['Time','Ride_count']]\r\n",
    "\r\n",
    "# Mutiple boxplots compare distributions of Uber rides across the hours of the day.\r\n",
    "time_groups_df.boxplot('Ride_count', by = 'Time', figsize = (20,10))\r\n",
    "\r\n",
    "plt.xlabel(\"Hour of the Day\")\r\n",
    "plt.ylabel('Total Uber pickups')\r\n",
    "plt.title('Uber pickups 2014 - 2015 by the hour')"
   ],
   "outputs": [
    {
     "output_type": "execute_result",
     "data": {
      "text/plain": [
       "Text(0.5, 1.0, 'Uber pickups 2014 - 2015 by the hour')"
      ]
     },
     "metadata": {},
     "execution_count": 12
    },
    {
     "output_type": "display_data",
     "data": {
      "image/png": "[encoded data removed]",
      "text/plain": [
       "<Figure size 1440x720 with 1 Axes>"
      ]
     },
     "metadata": {
      "needs_background": "light"
     }
    }
   ],
   "metadata": {}
  },
  {
   "cell_type": "code",
   "execution_count": 13,
   "source": [
    "# Filtering the data into by hour groupings.\r\n",
    "time_grp0 = combined_data_df[combined_data_df['Time']== 0]['Ride_count']\r\n",
    "time_grp1 = combined_data_df[combined_data_df['Time']== 1]['Ride_count']\r\n",
    "time_grp2 = combined_data_df[combined_data_df['Time']== 2]['Ride_count']\r\n",
    "time_grp3 = combined_data_df[combined_data_df['Time']== 3]['Ride_count']\r\n",
    "time_grp4 = combined_data_df[combined_data_df['Time']== 4]['Ride_count']\r\n",
    "time_grp5 = combined_data_df[combined_data_df['Time']== 5]['Ride_count']\r\n",
    "time_grp6 = combined_data_df[combined_data_df['Time']== 6]['Ride_count']\r\n",
    "time_grp7 = combined_data_df[combined_data_df['Time']== 7]['Ride_count']\r\n",
    "time_grp8 = combined_data_df[combined_data_df['Time']== 8]['Ride_count']\r\n",
    "time_grp9 = combined_data_df[combined_data_df['Time']== 9]['Ride_count']\r\n",
    "time_grp10 = combined_data_df[combined_data_df['Time']== 10]['Ride_count']\r\n",
    "time_grp11 = combined_data_df[combined_data_df['Time']== 11]['Ride_count']\r\n",
    "time_grp12 = combined_data_df[combined_data_df['Time']== 12]['Ride_count']\r\n",
    "time_grp13 = combined_data_df[combined_data_df['Time']== 13]['Ride_count']\r\n",
    "time_grp14 = combined_data_df[combined_data_df['Time']== 14]['Ride_count']\r\n",
    "time_grp15 = combined_data_df[combined_data_df['Time']== 15]['Ride_count']\r\n",
    "time_grp16 = combined_data_df[combined_data_df['Time']== 16]['Ride_count']\r\n",
    "time_grp17 = combined_data_df[combined_data_df['Time']== 17]['Ride_count']\r\n",
    "time_grp18 = combined_data_df[combined_data_df['Time']== 18]['Ride_count']\r\n",
    "time_grp19 = combined_data_df[combined_data_df['Time']== 19]['Ride_count']\r\n",
    "time_grp20 = combined_data_df[combined_data_df['Time']== 20]['Ride_count']\r\n",
    "time_grp21 = combined_data_df[combined_data_df['Time']== 21]['Ride_count']\r\n",
    "time_grp22 = combined_data_df[combined_data_df['Time']== 22]['Ride_count']\r\n",
    "time_grp23 = combined_data_df[combined_data_df['Time']== 23]['Ride_count']\r\n",
    "\r\n",
    "# Anova test for significance.\r\n",
    "# Seeing if there's a significant difference between the hours of the day's means.\r\n",
    "stats.f_oneway(time_grp0,time_grp1,time_grp2, time_grp3, time_grp4, time_grp5, time_grp6, time_grp7, time_grp8, time_grp9, time_grp10,\r\n",
    "time_grp11,time_grp12, time_grp13, time_grp14, time_grp15, time_grp16, time_grp17, time_grp18, time_grp19, time_grp20,\r\n",
    "time_grp21,time_grp22, time_grp23)"
   ],
   "outputs": [
    {
     "output_type": "execute_result",
     "data": {
      "text/plain": [
       "F_onewayResult(statistic=161.9551374010086, pvalue=0.0)"
      ]
     },
     "metadata": {},
     "execution_count": 13
    }
   ],
   "metadata": {}
  },
  {
   "cell_type": "code",
   "execution_count": 14,
   "source": [
    "# Separating the dataframe by those hours that have any rain listed vs. those that do not.\r\n",
    "# Saving the Ride_count as a series for calculations.\r\n",
    "rain_data = combined_data_df[combined_data_df['rain_1h']>0]['Ride_count']\r\n",
    "sunny_data = combined_data_df[combined_data_df['rain_1h']==0]['Ride_count']\r\n",
    "\r\n",
    "# Finding the count of hours that experienced rain and no rain throughout the data set.\r\n",
    "# These will be used to find the proportion of each, which in turn will help determine expected rides.\r\n",
    "rain_count = rain_data.count()\r\n",
    "sun_count = sunny_data.count()\r\n",
    "total_count = rain_count + sun_count\r\n",
    "\r\n",
    "# The expected Uber pickups should reflect the proportion of just rainy and sunny days if rain doesn't matter.\r\n",
    "rain_percent = rain_count/total_count\r\n",
    "sun_percent = sun_count/total_count\r\n",
    "\r\n",
    "print(f'Hours of rain: {rain_count} or {round(rain_percent*100,0)}%')\r\n",
    "print(f'Hours of no precipitation: {sun_count}, or {round(sun_percent*100,0)}%')\r\n",
    "\r\n",
    "# Finding the number of Uber pickups for each category.\r\n",
    "rain_total = rain_data.sum()\r\n",
    "sun_total = sunny_data.sum()\r\n",
    "sunrain_total = rain_total + sun_total\r\n",
    "\r\n",
    "# Creating the dataframe. Will show the weather types and amount of uber pickups observed versus a calculated proportional expected value.\r\n",
    "sun_rain_df = pd.DataFrame({'Weather_type': ['Rainy', 'Sunny'], 'Uber_pickup_totals': [rain_total, sun_total],'Expected_pickups':[round(sunrain_total*rain_percent), round(sunrain_total*sun_percent)]})\r\n",
    "sun_rain_df = sun_rain_df.set_index('Weather_type')\r\n",
    "\r\n",
    "sun_rain_df\r\n"
   ],
   "outputs": [
    {
     "output_type": "stream",
     "name": "stdout",
     "text": [
      "Hours of rain: 1733 or 18.0%\n",
      "Hours of no precipitation: 7772, or 82.0%\n"
     ]
    },
    {
     "output_type": "execute_result",
     "data": {
      "text/html": [
       "<div>\n",
       "<style scoped>\n",
       "    .dataframe tbody tr th:only-of-type {\n",
       "        vertical-align: middle;\n",
       "    }\n",
       "\n",
       "    .dataframe tbody tr th {\n",
       "        vertical-align: top;\n",
       "    }\n",
       "\n",
       "    .dataframe thead th {\n",
       "        text-align: right;\n",
       "    }\n",
       "</style>\n",
       "<table border=\"1\" class=\"dataframe\">\n",
       "  <thead>\n",
       "    <tr style=\"text-align: right;\">\n",
       "      <th></th>\n",
       "      <th>Uber_pickup_totals</th>\n",
       "      <th>Expected_pickups</th>\n",
       "    </tr>\n",
       "    <tr>\n",
       "      <th>Weather_type</th>\n",
       "      <th></th>\n",
       "      <th></th>\n",
       "    </tr>\n",
       "  </thead>\n",
       "  <tbody>\n",
       "    <tr>\n",
       "      <th>Rainy</th>\n",
       "      <td>3697997</td>\n",
       "      <td>3750247.0</td>\n",
       "    </tr>\n",
       "    <tr>\n",
       "      <th>Sunny</th>\n",
       "      <td>16871016</td>\n",
       "      <td>16818766.0</td>\n",
       "    </tr>\n",
       "  </tbody>\n",
       "</table>\n",
       "</div>"
      ],
      "text/plain": [
       "              Uber_pickup_totals  Expected_pickups\n",
       "Weather_type                                      \n",
       "Rainy                    3697997         3750247.0\n",
       "Sunny                   16871016        16818766.0"
      ]
     },
     "metadata": {},
     "execution_count": 14
    }
   ],
   "metadata": {}
  },
  {
   "cell_type": "code",
   "execution_count": 15,
   "source": [
    "# Finding critical value of chi-square test, alpha level 99%, degrees of freedom 1 less than the weather type categories.\r\n",
    "critical_value = stats.chi2.ppf(q = 0.99, df = 1)\r\n",
    "print(f'Critical value is: {critical_value}')\r\n",
    "\r\n",
    "# Chi squared test. \r\n",
    "# Null Hypothesis is that each day should have the same number of rides, that the type of weather experienced doesn't matter.\r\n",
    "# We can see this in the expected ride values being the total split proportionally, reflecting the proportion of time spent rainy or sunny.\r\n",
    "stats.chisquare(sun_rain_df['Uber_pickup_totals'], sun_rain_df['Expected_pickups'])"
   ],
   "outputs": [
    {
     "output_type": "stream",
     "name": "stdout",
     "text": [
      "Critical value is: 6.6348966010212145\n"
     ]
    },
    {
     "output_type": "execute_result",
     "data": {
      "text/plain": [
       "Power_divergenceResult(statistic=890.2911200437509, pvalue=1.2659811228889197e-195)"
      ]
     },
     "metadata": {},
     "execution_count": 15
    }
   ],
   "metadata": {}
  },
  {
   "cell_type": "code",
   "execution_count": 16,
   "source": [
    "# Graphing the observed and expected values to look at the distributions together.\r\n",
    "sun_rain_df['Uber_pickup_totals'].plot(kind = 'bar',alpha = 0.50, color = 'red', )\r\n",
    "sun_rain_df['Expected_pickups'].plot(kind = 'bar', alpha = 0.50, color = 'deepskyblue').legend(loc='lower right')\r\n",
    "plt.xlabel('Reported Hourly Weather Type')\r\n",
    "plt.ylabel('Total Uber pickups')\r\n",
    "plt.title('Uber pickups 2014 - 2015 by Weather: Observed vs. Expected')\r\n",
    "\r\n",
    "plt.show()"
   ],
   "outputs": [
    {
     "output_type": "display_data",
     "data": {
      "image/png": "[encoded data removed]",
      "text/plain": [
       "<Figure size 432x288 with 1 Axes>"
      ]
     },
     "metadata": {
      "needs_background": "light"
     }
    }
   ],
   "metadata": {}
  },
  {
   "cell_type": "code",
   "execution_count": 17,
   "source": [
    "# Finding the mean values for times with and without reported Rain\r\n",
    "rain_mean = rain_data.mean()\r\n",
    "print(f'The average number of Uber pickups when there was Rain: {rain_mean}')\r\n",
    "\r\n",
    "sun_mean = sunny_data.mean()\r\n",
    "print(f'The average number of Uber pickups when there was no Rain: {sun_mean}')\r\n",
    "\r\n",
    "# Running a t-test to check significance of difference between the groups.\r\n",
    "stats.ttest_ind(rain_data,sunny_data, equal_var=False)"
   ],
   "outputs": [
    {
     "output_type": "stream",
     "name": "stdout",
     "text": [
      "The average number of Uber pickups when there was Rain: 2133.870167339873\n",
      "The average number of Uber pickups when there was no Rain: 2170.743180648482\n"
     ]
    },
    {
     "output_type": "execute_result",
     "data": {
      "text/plain": [
       "Ttest_indResult(statistic=-0.7827864572679823, pvalue=0.43382507713987606)"
      ]
     },
     "metadata": {},
     "execution_count": 17
    }
   ],
   "metadata": {}
  },
  {
   "cell_type": "code",
   "execution_count": 18,
   "source": [
    "# Finding the 5-number summary for Rain data and checking for outliers.\r\n",
    "rain_quartiles = rain_data.quantile([0.25,0.5,0.75])\r\n",
    "rain_lowerq = rain_quartiles[0.25]\r\n",
    "rain_upperq = rain_quartiles[0.75]\r\n",
    "rain_iqr = rain_upperq - rain_lowerq\r\n",
    "rain_upper_bound = rain_upperq + (1.5*rain_iqr)\r\n",
    "rain_lower_bound = rain_lowerq - (1.5*rain_iqr)\r\n",
    "\r\n",
    "# Finding the 5-number summary for Sunny data and checking for outliers.\r\n",
    "sun_quartiles = sunny_data.quantile([0.25,0.5,0.75])\r\n",
    "sun_lowerq = sun_quartiles[0.25]\r\n",
    "sun_upperq = sun_quartiles[0.75]\r\n",
    "sun_iqr = sun_upperq - sun_lowerq\r\n",
    "sun_upper_bound = sun_upperq + (1.5*rain_iqr)\r\n",
    "sun_lower_bound = sun_lowerq - (1.5*rain_iqr)\r\n",
    "\r\n",
    "# Separating the dataframes into those that have any rain listed vs. those that do not.\r\n",
    "rain_df = combined_data_df[combined_data_df['rain_1h']>0]\r\n",
    "sun_df = combined_data_df[combined_data_df['rain_1h']==0]\r\n",
    "\r\n",
    "# Using the bounds to filter out outliers of Uber ride counts.\r\n",
    "rain_filtered = rain_df[(rain_df['Ride_count'] <= rain_upper_bound) & (rain_df['Ride_count'] >= rain_lower_bound)]\r\n",
    "sun_filtered = sun_df[(sun_df['Ride_count'] <= sun_upper_bound) & (sun_df['Ride_count'] >= sun_lower_bound)]\r\n"
   ],
   "outputs": [],
   "metadata": {}
  },
  {
   "cell_type": "code",
   "execution_count": 19,
   "source": [
    "# This is all just modified to include the filtered data.\r\n",
    "\r\n",
    "# Separating the dataframe by those hours that have any rain listed vs. those that do not.\r\n",
    "# Saving the Ride_count as a series for calculations.\r\n",
    "rain_filtered_data = rain_filtered['Ride_count']\r\n",
    "sun_filtered_data = sun_filtered['Ride_count']\r\n",
    "\r\n",
    "# Finding the count of hours that experienced rain and no rain throughout the data set.\r\n",
    "# These will be used to find the proportion of each, which in turn will help determine expected rides.\r\n",
    "rain_filtered_count = rain_filtered_data.count()\r\n",
    "sun_filtered_count = sun_filtered_data.count()\r\n",
    "total_filtered_count = rain_filtered_count + sun_filtered_count\r\n",
    "\r\n",
    "# The expected Uber pickups should reflect the proportion of just rainy and sunny days if rain doesn't matter.\r\n",
    "rain_filtered_percent = rain_filtered_count/total_filtered_count\r\n",
    "sun_filtered_percent = sun_filtered_count/total_filtered_count\r\n",
    "\r\n",
    "print(f'Hours of rain: {rain_filtered_count} or {round(rain_filtered_percent*100,0)}%')\r\n",
    "print(f'Hours of no precipitation: {sun_filtered_count}, or {round(sun_filtered_percent*100,0)}%')\r\n",
    "\r\n",
    "# Finding the number of Uber pickups for each category.\r\n",
    "rain_filtered_total = rain_filtered_data.sum()\r\n",
    "sun_filtered_total = sun_filtered_data.sum()\r\n",
    "sunrain_filtered_total = rain_filtered_total + sun_filtered_total\r\n",
    "\r\n",
    "# Creating the dataframe. Will show the weather types and amount of uber pickups observed versus a calculated proportional expected value.\r\n",
    "sr_filtered_df = pd.DataFrame({'Weather_type': ['Rainy', 'Sunny'], 'Uber_pickup_totals': [rain_filtered_total, sun_filtered_total],'Expected_pickups':[round(sunrain_filtered_total*rain_filtered_percent), round(sunrain_filtered_total*sun_filtered_percent)]})\r\n",
    "sr_filtered_df = sr_filtered_df.set_index('Weather_type')\r\n",
    "\r\n",
    "sr_filtered_df"
   ],
   "outputs": [
    {
     "output_type": "stream",
     "name": "stdout",
     "text": [
      "Hours of rain: 1712 or 18.0%\n",
      "Hours of no precipitation: 7626, or 82.0%\n"
     ]
    },
    {
     "output_type": "execute_result",
     "data": {
      "text/html": [
       "<div>\n",
       "<style scoped>\n",
       "    .dataframe tbody tr th:only-of-type {\n",
       "        vertical-align: middle;\n",
       "    }\n",
       "\n",
       "    .dataframe tbody tr th {\n",
       "        vertical-align: top;\n",
       "    }\n",
       "\n",
       "    .dataframe thead th {\n",
       "        text-align: right;\n",
       "    }\n",
       "</style>\n",
       "<table border=\"1\" class=\"dataframe\">\n",
       "  <thead>\n",
       "    <tr style=\"text-align: right;\">\n",
       "      <th></th>\n",
       "      <th>Uber_pickup_totals</th>\n",
       "      <th>Expected_pickups</th>\n",
       "    </tr>\n",
       "    <tr>\n",
       "      <th>Weather_type</th>\n",
       "      <th></th>\n",
       "      <th></th>\n",
       "    </tr>\n",
       "  </thead>\n",
       "  <tbody>\n",
       "    <tr>\n",
       "      <th>Rainy</th>\n",
       "      <td>3519964</td>\n",
       "      <td>3540273.0</td>\n",
       "    </tr>\n",
       "    <tr>\n",
       "      <th>Sunny</th>\n",
       "      <td>15790239</td>\n",
       "      <td>15769930.0</td>\n",
       "    </tr>\n",
       "  </tbody>\n",
       "</table>\n",
       "</div>"
      ],
      "text/plain": [
       "              Uber_pickup_totals  Expected_pickups\n",
       "Weather_type                                      \n",
       "Rainy                    3519964         3540273.0\n",
       "Sunny                   15790239        15769930.0"
      ]
     },
     "metadata": {},
     "execution_count": 19
    }
   ],
   "metadata": {}
  },
  {
   "cell_type": "code",
   "execution_count": 20,
   "source": [
    "# Graphing the observed and expected values to look at the distributions together.\r\n",
    "sr_filtered_df['Uber_pickup_totals'].plot(kind = 'bar',alpha = 0.50, color = 'red', )\r\n",
    "sr_filtered_df['Expected_pickups'].plot(kind = 'bar', alpha = 0.50, color = 'deepskyblue').legend(loc='lower right')\r\n",
    "plt.xlabel('Reported Hourly Weather Type')\r\n",
    "plt.ylabel('Total Uber pickups')\r\n",
    "plt.title('''Uber pickups 2014 - 2015 Weather Observed vs. Expected\r\n",
    "Outliers removed''')\r\n",
    "\r\n",
    "plt.show()"
   ],
   "outputs": [
    {
     "output_type": "display_data",
     "data": {
      "image/png": "[encoded data removed]",
      "text/plain": [
       "<Figure size 432x288 with 1 Axes>"
      ]
     },
     "metadata": {
      "needs_background": "light"
     }
    }
   ],
   "metadata": {}
  }
 ],
 "metadata": {
  "orig_nbformat": 4,
  "language_info": {
   "name": "python",
   "version": "3.6.10",
   "mimetype": "text/x-python",
   "codemirror_mode": {
    "name": "ipython",
    "version": 3
   },
   "pygments_lexer": "ipython3",
   "nbconvert_exporter": "python",
   "file_extension": ".py"
  },
  "kernelspec": {
   "name": "python3",
   "display_name": "Python 3.6.10 64-bit ('pythonbeta': conda)"
  },
  "interpreter": {
   "hash": "6c6a54772e2ce38b8229b5dd05c5ee40870a75cd85918be7921956d4e827639f"
  }
 },
 "nbformat": 4,
 "nbformat_minor": 2
}